{
  "nbformat": 4,
  "nbformat_minor": 0,
  "metadata": {
    "colab": {
      "name": "numpy_handsonl.ipynb",
      "provenance": [],
      "collapsed_sections": [],
      "authorship_tag": "ABX9TyOrvtGTf2RRnjeJpf35bwn3"
    },
    "kernelspec": {
      "name": "python3",
      "display_name": "Python 3"
    }
  },
  "cells": [
    {
      "cell_type": "code",
      "metadata": {
        "id": "Iz-Oq-TfhCUi",
        "colab_type": "code",
        "colab": {}
      },
      "source": [
        "import numpy as np"
      ],
      "execution_count": 0,
      "outputs": []
    },
    {
      "cell_type": "markdown",
      "metadata": {
        "id": "BRL9pteRqtfm",
        "colab_type": "text"
      },
      "source": [
        "**Basic operations**"
      ]
    },
    {
      "cell_type": "code",
      "metadata": {
        "id": "MZvSE5lalYgA",
        "colab_type": "code",
        "colab": {}
      },
      "source": [
        "a = np.array([1,2,3], dtype = 'int16') #by default numpy takes int32 i.e. 4 bytes of space for storing int. "
      ],
      "execution_count": 0,
      "outputs": []
    },
    {
      "cell_type": "code",
      "metadata": {
        "id": "tDHQPDklmr3j",
        "colab_type": "code",
        "colab": {}
      },
      "source": [
        "b = np.array([[1,2,3],\n",
        "             [4,5,6]])"
      ],
      "execution_count": 0,
      "outputs": []
    },
    {
      "cell_type": "code",
      "metadata": {
        "id": "4LjmgtJ6o0Cv",
        "colab_type": "code",
        "outputId": "219c372e-dccf-4c59-e8e8-76dd75c83e65",
        "colab": {
          "base_uri": "https://localhost:8080/",
          "height": 51
        }
      },
      "source": [
        "print(b)"
      ],
      "execution_count": 0,
      "outputs": [
        {
          "output_type": "stream",
          "text": [
            "[[1 2 3]\n",
            " [4 5 6]]\n"
          ],
          "name": "stdout"
        }
      ]
    },
    {
      "cell_type": "code",
      "metadata": {
        "id": "nWVavqNMmvuG",
        "colab_type": "code",
        "outputId": "d16a59c1-0db4-4610-e7a7-e683afce81c4",
        "colab": {
          "base_uri": "https://localhost:8080/",
          "height": 34
        }
      },
      "source": [
        "a.ndim"
      ],
      "execution_count": 0,
      "outputs": [
        {
          "output_type": "execute_result",
          "data": {
            "text/plain": [
              "1"
            ]
          },
          "metadata": {
            "tags": []
          },
          "execution_count": 16
        }
      ]
    },
    {
      "cell_type": "code",
      "metadata": {
        "id": "UfEng9fPnFHZ",
        "colab_type": "code",
        "outputId": "42159426-3481-446b-fa9e-3f27769045d4",
        "colab": {
          "base_uri": "https://localhost:8080/",
          "height": 34
        }
      },
      "source": [
        "b.ndim"
      ],
      "execution_count": 0,
      "outputs": [
        {
          "output_type": "execute_result",
          "data": {
            "text/plain": [
              "2"
            ]
          },
          "metadata": {
            "tags": []
          },
          "execution_count": 17
        }
      ]
    },
    {
      "cell_type": "code",
      "metadata": {
        "id": "HVD_QQ8SnGJ9",
        "colab_type": "code",
        "outputId": "0b2e0f79-537d-4f6f-a49e-6e1c8038c84b",
        "colab": {
          "base_uri": "https://localhost:8080/",
          "height": 34
        }
      },
      "source": [
        "a.shape #one dimensional array with three elements"
      ],
      "execution_count": 0,
      "outputs": [
        {
          "output_type": "execute_result",
          "data": {
            "text/plain": [
              "(3,)"
            ]
          },
          "metadata": {
            "tags": []
          },
          "execution_count": 18
        }
      ]
    },
    {
      "cell_type": "code",
      "metadata": {
        "id": "fs7FTiV8nH1p",
        "colab_type": "code",
        "outputId": "11edc72b-54f8-428b-b591-c7468572dc21",
        "colab": {
          "base_uri": "https://localhost:8080/",
          "height": 34
        }
      },
      "source": [
        "b.shape"
      ],
      "execution_count": 0,
      "outputs": [
        {
          "output_type": "execute_result",
          "data": {
            "text/plain": [
              "(2, 3)"
            ]
          },
          "metadata": {
            "tags": []
          },
          "execution_count": 19
        }
      ]
    },
    {
      "cell_type": "code",
      "metadata": {
        "id": "AOj0mW_7nM-b",
        "colab_type": "code",
        "outputId": "2b261c44-9113-47e6-ff64-7dbc8ae36d87",
        "colab": {
          "base_uri": "https://localhost:8080/",
          "height": 34
        }
      },
      "source": [
        "a.dtype #a.datatype not a.type"
      ],
      "execution_count": 0,
      "outputs": [
        {
          "output_type": "execute_result",
          "data": {
            "text/plain": [
              "dtype('int16')"
            ]
          },
          "metadata": {
            "tags": []
          },
          "execution_count": 20
        }
      ]
    },
    {
      "cell_type": "code",
      "metadata": {
        "id": "VXi1Y7pwn7H8",
        "colab_type": "code",
        "outputId": "6d826488-523e-42bd-e955-171037be807c",
        "colab": {
          "base_uri": "https://localhost:8080/",
          "height": 34
        }
      },
      "source": [
        "a.itemsize #to see how many bytes are occupied by one element"
      ],
      "execution_count": 0,
      "outputs": [
        {
          "output_type": "execute_result",
          "data": {
            "text/plain": [
              "2"
            ]
          },
          "metadata": {
            "tags": []
          },
          "execution_count": 31
        }
      ]
    },
    {
      "cell_type": "code",
      "metadata": {
        "id": "laGEtlmXoAnP",
        "colab_type": "code",
        "outputId": "d23af988-3e4f-42a7-ec1f-d5ba83cf2481",
        "colab": {
          "base_uri": "https://localhost:8080/",
          "height": 34
        }
      },
      "source": [
        "b.itemsize"
      ],
      "execution_count": 0,
      "outputs": [
        {
          "output_type": "execute_result",
          "data": {
            "text/plain": [
              "8"
            ]
          },
          "metadata": {
            "tags": []
          },
          "execution_count": 24
        }
      ]
    },
    {
      "cell_type": "code",
      "metadata": {
        "id": "i0GKX16LnPhQ",
        "colab_type": "code",
        "outputId": "bf86977e-ac60-4d7f-9a09-737ce480ba8a",
        "colab": {
          "base_uri": "https://localhost:8080/",
          "height": 34
        }
      },
      "source": [
        "b.dtype #two dimensional array"
      ],
      "execution_count": 0,
      "outputs": [
        {
          "output_type": "execute_result",
          "data": {
            "text/plain": [
              "dtype('int64')"
            ]
          },
          "metadata": {
            "tags": []
          },
          "execution_count": 21
        }
      ]
    },
    {
      "cell_type": "code",
      "metadata": {
        "id": "hrpKENwLnmn1",
        "colab_type": "code",
        "outputId": "4b2cbca9-ee0d-41f2-f07c-1a422f174ed2",
        "colab": {
          "base_uri": "https://localhost:8080/",
          "height": 34
        }
      },
      "source": [
        "a.size #total number of elements"
      ],
      "execution_count": 0,
      "outputs": [
        {
          "output_type": "execute_result",
          "data": {
            "text/plain": [
              "3"
            ]
          },
          "metadata": {
            "tags": []
          },
          "execution_count": 26
        }
      ]
    },
    {
      "cell_type": "code",
      "metadata": {
        "id": "Rg3Zf2edoROC",
        "colab_type": "code",
        "outputId": "d722693d-ba90-4e86-db42-2f41483a64e6",
        "colab": {
          "base_uri": "https://localhost:8080/",
          "height": 34
        }
      },
      "source": [
        "b.size"
      ],
      "execution_count": 0,
      "outputs": [
        {
          "output_type": "execute_result",
          "data": {
            "text/plain": [
              "6"
            ]
          },
          "metadata": {
            "tags": []
          },
          "execution_count": 27
        }
      ]
    },
    {
      "cell_type": "code",
      "metadata": {
        "id": "R-pTS_KVoUmr",
        "colab_type": "code",
        "outputId": "1f6329eb-c39b-4e7a-faaf-7f053b29b9fb",
        "colab": {
          "base_uri": "https://localhost:8080/",
          "height": 34
        }
      },
      "source": [
        "#get total byte size occupied in memory\n",
        "a.size * a.itemsize"
      ],
      "execution_count": 0,
      "outputs": [
        {
          "output_type": "execute_result",
          "data": {
            "text/plain": [
              "6"
            ]
          },
          "metadata": {
            "tags": []
          },
          "execution_count": 29
        }
      ]
    },
    {
      "cell_type": "code",
      "metadata": {
        "id": "JX_gBWsfoba6",
        "colab_type": "code",
        "outputId": "ceb87ef4-f08c-4e4e-be02-cb97134faf47",
        "colab": {
          "base_uri": "https://localhost:8080/",
          "height": 34
        }
      },
      "source": [
        "#or\n",
        "a.nbytes"
      ],
      "execution_count": 0,
      "outputs": [
        {
          "output_type": "execute_result",
          "data": {
            "text/plain": [
              "6"
            ]
          },
          "metadata": {
            "tags": []
          },
          "execution_count": 30
        }
      ]
    },
    {
      "cell_type": "code",
      "metadata": {
        "id": "kGKtMAEgokD4",
        "colab_type": "code",
        "outputId": "73bb0dbb-031c-40d1-93bd-45174179dc78",
        "colab": {
          "base_uri": "https://localhost:8080/",
          "height": 34
        }
      },
      "source": [
        "b.nbytes"
      ],
      "execution_count": 0,
      "outputs": [
        {
          "output_type": "execute_result",
          "data": {
            "text/plain": [
              "48"
            ]
          },
          "metadata": {
            "tags": []
          },
          "execution_count": 34
        }
      ]
    },
    {
      "cell_type": "markdown",
      "metadata": {
        "id": "RhvMExIaqTgW",
        "colab_type": "text"
      },
      "source": [
        "**Accessing/ Changing specific elements, rows, columns....**"
      ]
    },
    {
      "cell_type": "code",
      "metadata": {
        "id": "G02EiYcbo75s",
        "colab_type": "code",
        "colab": {}
      },
      "source": [
        "a = np.array([[1,2,3,4,5,6,7],[8,9,10,11,12,13,14]])"
      ],
      "execution_count": 0,
      "outputs": []
    },
    {
      "cell_type": "code",
      "metadata": {
        "id": "BVqM7Y9jpXgh",
        "colab_type": "code",
        "outputId": "6030a4f2-ba0a-47a0-86c6-797fb57c6e2c",
        "colab": {
          "base_uri": "https://localhost:8080/",
          "height": 51
        }
      },
      "source": [
        "print (a)"
      ],
      "execution_count": 0,
      "outputs": [
        {
          "output_type": "stream",
          "text": [
            "[[ 1  2  3  4  5  6  7]\n",
            " [ 8  9 10 11 12 13 14]]\n"
          ],
          "name": "stdout"
        }
      ]
    },
    {
      "cell_type": "code",
      "metadata": {
        "id": "26AWjB1xpZ-t",
        "colab_type": "code",
        "outputId": "02baba8d-07fc-49d1-d2b3-17def9ed855b",
        "colab": {
          "base_uri": "https://localhost:8080/",
          "height": 34
        }
      },
      "source": [
        "a.shape"
      ],
      "execution_count": 0,
      "outputs": [
        {
          "output_type": "execute_result",
          "data": {
            "text/plain": [
              "(2, 7)"
            ]
          },
          "metadata": {
            "tags": []
          },
          "execution_count": 9
        }
      ]
    },
    {
      "cell_type": "code",
      "metadata": {
        "id": "GjQSADDfpczT",
        "colab_type": "code",
        "outputId": "d16e51a5-a02a-4bf9-8e9c-fee30f339c51",
        "colab": {
          "base_uri": "https://localhost:8080/",
          "height": 34
        }
      },
      "source": [
        "#get a specific element [row, col]\n",
        "print(a[1,5])"
      ],
      "execution_count": 0,
      "outputs": [
        {
          "output_type": "stream",
          "text": [
            "13\n"
          ],
          "name": "stdout"
        }
      ]
    },
    {
      "cell_type": "code",
      "metadata": {
        "id": "PmN7egHPp4YH",
        "colab_type": "code",
        "outputId": "b9b2a2e3-d3d6-41b8-a65d-01b5ac4f84fd",
        "colab": {
          "base_uri": "https://localhost:8080/",
          "height": 34
        }
      },
      "source": [
        "#negative second element in second row\n",
        "print(a[1,-2])"
      ],
      "execution_count": 0,
      "outputs": [
        {
          "output_type": "stream",
          "text": [
            "13\n"
          ],
          "name": "stdout"
        }
      ]
    },
    {
      "cell_type": "code",
      "metadata": {
        "id": "e_deVWfxqAb6",
        "colab_type": "code",
        "outputId": "0216a068-671b-4b37-b677-8c3dfc406fa8",
        "colab": {
          "base_uri": "https://localhost:8080/",
          "height": 34
        }
      },
      "source": [
        "#get a specific row\n",
        "print(a[1,:]) #all columns in second row"
      ],
      "execution_count": 0,
      "outputs": [
        {
          "output_type": "stream",
          "text": [
            "[ 8  9 10 11 12 13 14]\n"
          ],
          "name": "stdout"
        }
      ]
    },
    {
      "cell_type": "code",
      "metadata": {
        "id": "yhTPRI1rqLPO",
        "colab_type": "code",
        "outputId": "f40ee890-a07e-4671-e54f-b11d7b0e13be",
        "colab": {
          "base_uri": "https://localhost:8080/",
          "height": 34
        }
      },
      "source": [
        "#get a specific column\n",
        "print(a[:, 5]) #all rows in 6th column"
      ],
      "execution_count": 0,
      "outputs": [
        {
          "output_type": "stream",
          "text": [
            "[ 6 13]\n"
          ],
          "name": "stdout"
        }
      ]
    },
    {
      "cell_type": "code",
      "metadata": {
        "id": "SbEWuTmOrXth",
        "colab_type": "code",
        "outputId": "0b959c3e-df56-455a-cced-58d590276107",
        "colab": {
          "base_uri": "https://localhost:8080/",
          "height": 34
        }
      },
      "source": [
        "#getting more customizes [startindex:endindex:stepsize] ===>> in row or column\n",
        "print(a[0,1:5:2]) #print 2 to 5 by skipping two elements in row 0"
      ],
      "execution_count": 0,
      "outputs": [
        {
          "output_type": "stream",
          "text": [
            "[2 4]\n"
          ],
          "name": "stdout"
        }
      ]
    },
    {
      "cell_type": "code",
      "metadata": {
        "id": "cxMMRXnMCAbW",
        "colab_type": "code",
        "outputId": "d4bc4372-99a5-427b-97b7-e6f082dbb3ae",
        "colab": {
          "base_uri": "https://localhost:8080/",
          "height": 51
        }
      },
      "source": [
        "print(a)"
      ],
      "execution_count": 0,
      "outputs": [
        {
          "output_type": "stream",
          "text": [
            "[[ 1  2  3  4  5  6  7]\n",
            " [ 8  9 10 11 12 13 14]]\n"
          ],
          "name": "stdout"
        }
      ]
    },
    {
      "cell_type": "code",
      "metadata": {
        "id": "iy_xoBZNCCwq",
        "colab_type": "code",
        "outputId": "7ad30a15-a7b6-4216-8913-2f8e68c85520",
        "colab": {
          "base_uri": "https://localhost:8080/",
          "height": 34
        }
      },
      "source": [
        "print(a[0,1:-1:2]) #get 2,4,6"
      ],
      "execution_count": 0,
      "outputs": [
        {
          "output_type": "stream",
          "text": [
            "[2 4 6]\n"
          ],
          "name": "stdout"
        }
      ]
    },
    {
      "cell_type": "code",
      "metadata": {
        "id": "lfHgr-V4CZyy",
        "colab_type": "code",
        "colab": {}
      },
      "source": [
        "#change elements\n",
        "a[1,5] = 20"
      ],
      "execution_count": 0,
      "outputs": []
    },
    {
      "cell_type": "code",
      "metadata": {
        "id": "yqzWbiefCmIq",
        "colab_type": "code",
        "outputId": "2660ca74-cce7-4e66-bedc-c6a5a06abf5b",
        "colab": {
          "base_uri": "https://localhost:8080/",
          "height": 51
        }
      },
      "source": [
        "print(a)"
      ],
      "execution_count": 0,
      "outputs": [
        {
          "output_type": "stream",
          "text": [
            "[[ 1  2  3  4  5  6  7]\n",
            " [ 8  9 10 11 12 20 14]]\n"
          ],
          "name": "stdout"
        }
      ]
    },
    {
      "cell_type": "code",
      "metadata": {
        "id": "Q-_-9C6uCnt5",
        "colab_type": "code",
        "colab": {}
      },
      "source": [
        "#change all rows in third column to be 3\n",
        "a[:,2] = 3"
      ],
      "execution_count": 0,
      "outputs": []
    },
    {
      "cell_type": "code",
      "metadata": {
        "id": "u4BCXSvQC7G5",
        "colab_type": "code",
        "outputId": "d853db9d-0226-4c46-b852-83980d2d5846",
        "colab": {
          "base_uri": "https://localhost:8080/",
          "height": 51
        }
      },
      "source": [
        "print(a)"
      ],
      "execution_count": 0,
      "outputs": [
        {
          "output_type": "stream",
          "text": [
            "[[ 1  2  3  4  5  6  7]\n",
            " [ 8  9  3 11 12 20 14]]\n"
          ],
          "name": "stdout"
        }
      ]
    },
    {
      "cell_type": "code",
      "metadata": {
        "id": "1hcUCi4_C8dx",
        "colab_type": "code",
        "colab": {}
      },
      "source": [
        "#3D array\n",
        "a = np.array([[[1,2],[3,4]],[[5,6],[7,8]]])"
      ],
      "execution_count": 0,
      "outputs": []
    },
    {
      "cell_type": "code",
      "metadata": {
        "id": "fmhwuh-CDqB4",
        "colab_type": "code",
        "outputId": "dbfd4984-bf93-43b6-a629-19dfd86e8445",
        "colab": {
          "base_uri": "https://localhost:8080/",
          "height": 102
        }
      },
      "source": [
        "print(a)"
      ],
      "execution_count": 0,
      "outputs": [
        {
          "output_type": "stream",
          "text": [
            "[[[1 2]\n",
            "  [3 4]]\n",
            "\n",
            " [[5 6]\n",
            "  [7 8]]]\n"
          ],
          "name": "stdout"
        }
      ]
    },
    {
      "cell_type": "code",
      "metadata": {
        "id": "3_NnkuEYDvEw",
        "colab_type": "code",
        "outputId": "b91423b1-3f70-46d9-db25-2269d5c70d24",
        "colab": {
          "base_uri": "https://localhost:8080/",
          "height": 34
        }
      },
      "source": [
        "# for accessing work outside in\n",
        "print(a[0,1,1]) #get 4"
      ],
      "execution_count": 0,
      "outputs": [
        {
          "output_type": "stream",
          "text": [
            "4\n"
          ],
          "name": "stdout"
        }
      ]
    },
    {
      "cell_type": "code",
      "metadata": {
        "id": "3XFbRHFtD5gX",
        "colab_type": "code",
        "outputId": "868c6702-c7b9-45e3-fefe-da08c2731e38",
        "colab": {
          "base_uri": "https://localhost:8080/",
          "height": 51
        }
      },
      "source": [
        "#get the first 2-d array\n",
        "print(a[:,1,:]) #all array, 2nd row, all elements in row"
      ],
      "execution_count": 0,
      "outputs": [
        {
          "output_type": "stream",
          "text": [
            "[[3 4]\n",
            " [7 8]]\n"
          ],
          "name": "stdout"
        }
      ]
    },
    {
      "cell_type": "code",
      "metadata": {
        "id": "Tl_WNFnkGX74",
        "colab_type": "code",
        "outputId": "0a74d49f-20aa-4052-9cb4-a947ff804af0",
        "colab": {
          "base_uri": "https://localhost:8080/",
          "height": 34
        }
      },
      "source": [
        "print(a[1,1,0])"
      ],
      "execution_count": 0,
      "outputs": [
        {
          "output_type": "stream",
          "text": [
            "7\n"
          ],
          "name": "stdout"
        }
      ]
    },
    {
      "cell_type": "code",
      "metadata": {
        "id": "1-SqdInnGmj2",
        "colab_type": "code",
        "colab": {}
      },
      "source": [
        "#replace\n",
        "a[:,1, :] = [[2, 2],[33,3]]"
      ],
      "execution_count": 0,
      "outputs": []
    },
    {
      "cell_type": "code",
      "metadata": {
        "id": "1P2aGRm7HWyv",
        "colab_type": "code",
        "outputId": "e98216a0-4dcd-4a03-8deb-0f7bbedeac53",
        "colab": {
          "base_uri": "https://localhost:8080/",
          "height": 102
        }
      },
      "source": [
        "print(a)"
      ],
      "execution_count": 0,
      "outputs": [
        {
          "output_type": "stream",
          "text": [
            "[[[ 1  2]\n",
            "  [ 2  2]]\n",
            "\n",
            " [[ 5  6]\n",
            "  [33  3]]]\n"
          ],
          "name": "stdout"
        }
      ]
    },
    {
      "cell_type": "markdown",
      "metadata": {
        "id": "lU6uzG1MHdFw",
        "colab_type": "text"
      },
      "source": [
        "**Initializing different types of array**"
      ]
    },
    {
      "cell_type": "code",
      "metadata": {
        "id": "HZocC5B1Hk5N",
        "colab_type": "code",
        "colab": {}
      },
      "source": [
        "#all zeros\n",
        "a = np.zeros((2,3,3))"
      ],
      "execution_count": 0,
      "outputs": []
    },
    {
      "cell_type": "code",
      "metadata": {
        "id": "MD4_E2Z_JDA2",
        "colab_type": "code",
        "outputId": "6bdc0f87-cd8e-421b-e85a-509885204861",
        "colab": {
          "base_uri": "https://localhost:8080/",
          "height": 136
        }
      },
      "source": [
        "print(a)"
      ],
      "execution_count": 0,
      "outputs": [
        {
          "output_type": "stream",
          "text": [
            "[[[0. 0. 0.]\n",
            "  [0. 0. 0.]\n",
            "  [0. 0. 0.]]\n",
            "\n",
            " [[0. 0. 0.]\n",
            "  [0. 0. 0.]\n",
            "  [0. 0. 0.]]]\n"
          ],
          "name": "stdout"
        }
      ]
    },
    {
      "cell_type": "code",
      "metadata": {
        "id": "-ynO-XwQJD_r",
        "colab_type": "code",
        "colab": {}
      },
      "source": [
        "#all ones\n",
        "a = np.ones((2,3), dtype = 'int8')"
      ],
      "execution_count": 0,
      "outputs": []
    },
    {
      "cell_type": "code",
      "metadata": {
        "id": "e7Hv6SBaJYtE",
        "colab_type": "code",
        "outputId": "e8d03092-ced3-4a0a-dcb8-094c6a5a613a",
        "colab": {
          "base_uri": "https://localhost:8080/",
          "height": 51
        }
      },
      "source": [
        "print (a)"
      ],
      "execution_count": 0,
      "outputs": [
        {
          "output_type": "stream",
          "text": [
            "[[1 1 1]\n",
            " [1 1 1]]\n"
          ],
          "name": "stdout"
        }
      ]
    },
    {
      "cell_type": "code",
      "metadata": {
        "id": "KRm4TFGIJacb",
        "colab_type": "code",
        "outputId": "b499c41b-0815-4768-f99b-deb2204abef1",
        "colab": {
          "base_uri": "https://localhost:8080/",
          "height": 34
        }
      },
      "source": [
        "print(a.itemsize)"
      ],
      "execution_count": 0,
      "outputs": [
        {
          "output_type": "stream",
          "text": [
            "1\n"
          ],
          "name": "stdout"
        }
      ]
    },
    {
      "cell_type": "code",
      "metadata": {
        "id": "lnD5eLbzJhvS",
        "colab_type": "code",
        "outputId": "50177701-0911-4ba4-f97f-ef83680e903f",
        "colab": {
          "base_uri": "https://localhost:8080/",
          "height": 34
        }
      },
      "source": [
        "print(a.size * a.itemsize)"
      ],
      "execution_count": 0,
      "outputs": [
        {
          "output_type": "stream",
          "text": [
            "6\n"
          ],
          "name": "stdout"
        }
      ]
    },
    {
      "cell_type": "code",
      "metadata": {
        "id": "KsBBnsiQJlcc",
        "colab_type": "code",
        "colab": {}
      },
      "source": [
        "#any other number\n",
        "a = np.full((2,2),100, dtype = 'float16')"
      ],
      "execution_count": 0,
      "outputs": []
    },
    {
      "cell_type": "code",
      "metadata": {
        "id": "LwUZX1IYKGeV",
        "colab_type": "code",
        "outputId": "86097817-ccb7-4057-ad09-26491e5dcc52",
        "colab": {
          "base_uri": "https://localhost:8080/",
          "height": 51
        }
      },
      "source": [
        "print(a)"
      ],
      "execution_count": 0,
      "outputs": [
        {
          "output_type": "stream",
          "text": [
            "[[100. 100.]\n",
            " [100. 100.]]\n"
          ],
          "name": "stdout"
        }
      ]
    },
    {
      "cell_type": "code",
      "metadata": {
        "id": "BpsAVjejKHhK",
        "colab_type": "code",
        "colab": {}
      },
      "source": [
        "#any other number\n",
        "a = np.full_like(a, 4) "
      ],
      "execution_count": 0,
      "outputs": []
    },
    {
      "cell_type": "code",
      "metadata": {
        "id": "qjPH8eKkhTbu",
        "colab_type": "code",
        "outputId": "9daa6f69-19b6-4cd6-910a-30cab3e682da",
        "colab": {
          "base_uri": "https://localhost:8080/",
          "height": 51
        }
      },
      "source": [
        "print(a)"
      ],
      "execution_count": 0,
      "outputs": [
        {
          "output_type": "stream",
          "text": [
            "[[4. 4.]\n",
            " [4. 4.]]\n"
          ],
          "name": "stdout"
        }
      ]
    },
    {
      "cell_type": "code",
      "metadata": {
        "id": "sAWVh8J2hUlF",
        "colab_type": "code",
        "outputId": "1d0229b1-5e8b-4858-b85b-0ffbb22c77ac",
        "colab": {
          "base_uri": "https://localhost:8080/",
          "height": 51
        }
      },
      "source": [
        "print(np.full(a.shape, 4))"
      ],
      "execution_count": 0,
      "outputs": [
        {
          "output_type": "stream",
          "text": [
            "[[4 4]\n",
            " [4 4]]\n"
          ],
          "name": "stdout"
        }
      ]
    },
    {
      "cell_type": "code",
      "metadata": {
        "id": "MEbE0ZlXhoLG",
        "colab_type": "code",
        "outputId": "de752859-c860-4d90-fade-af1a9e638002",
        "colab": {
          "base_uri": "https://localhost:8080/",
          "height": 51
        }
      },
      "source": [
        "#initializing array with random numbers\n",
        "print(np.random.randn(2,4)) #np.random.randn is for Standard Normal (aka. Gaussian) distribution (mean 0 and variance 1)"
      ],
      "execution_count": 0,
      "outputs": [
        {
          "output_type": "stream",
          "text": [
            "[[1.44245455 1.05459481 1.69110554 0.15072357]\n",
            " [0.75857053 0.75690246 0.60918967 0.32141597]]\n"
          ],
          "name": "stdout"
        }
      ]
    },
    {
      "cell_type": "code",
      "metadata": {
        "id": "Sw10DHFEh_Fs",
        "colab_type": "code",
        "outputId": "58ab3459-415d-43e9-8483-3da4902be4ce",
        "colab": {
          "base_uri": "https://localhost:8080/",
          "height": 170
        }
      },
      "source": [
        "print(np.random.randn(2,4,3)) #in bracket it is the shape"
      ],
      "execution_count": 0,
      "outputs": [
        {
          "output_type": "stream",
          "text": [
            "[[[-0.6287488  -0.34343971  1.69339387]\n",
            "  [ 1.27167937 -0.47486554  0.87974788]\n",
            "  [-0.03522907  0.82477833 -0.43953061]\n",
            "  [-1.3279903  -0.23142377 -0.10225054]]\n",
            "\n",
            " [[-0.67364461  0.88721609  1.31947469]\n",
            "  [ 0.79645309  0.80890577  1.25811953]\n",
            "  [ 1.46182606 -0.43283066 -0.65509416]\n",
            "  [ 0.5679541  -0.83837015 -0.33376197]]]\n"
          ],
          "name": "stdout"
        }
      ]
    },
    {
      "cell_type": "code",
      "metadata": {
        "id": "tdJCpiO5iExd",
        "colab_type": "code",
        "outputId": "b01ed2dc-070c-4205-db72-c12237460208",
        "colab": {
          "base_uri": "https://localhost:8080/",
          "height": 34
        }
      },
      "source": [
        "print(a.shape)"
      ],
      "execution_count": 0,
      "outputs": [
        {
          "output_type": "stream",
          "text": [
            "(2, 2)\n"
          ],
          "name": "stdout"
        }
      ]
    },
    {
      "cell_type": "code",
      "metadata": {
        "id": "nJdgpt85iF_k",
        "colab_type": "code",
        "outputId": "83468855-3271-464f-aefc-7ff1ccf2d0d3",
        "colab": {
          "base_uri": "https://localhost:8080/",
          "height": 51
        }
      },
      "source": [
        "print(np.random.random_sample(a.shape))"
      ],
      "execution_count": 0,
      "outputs": [
        {
          "output_type": "stream",
          "text": [
            "[[0.29679046 0.84851735]\n",
            " [0.24918877 0.80573764]]\n"
          ],
          "name": "stdout"
        }
      ]
    },
    {
      "cell_type": "code",
      "metadata": {
        "id": "Ql4FqBeviLjU",
        "colab_type": "code",
        "outputId": "09157a9e-7fb1-444c-a453-d3a9cd8eb9d1",
        "colab": {
          "base_uri": "https://localhost:8080/",
          "height": 85
        }
      },
      "source": [
        "print(np.random.rand(4,2)) #np.random.rand is for Uniform distribution in the half-open interval [0.0, 1.0)"
      ],
      "execution_count": 0,
      "outputs": [
        {
          "output_type": "stream",
          "text": [
            "[[0.31798835 0.34779911]\n",
            " [0.23881675 0.67609367]\n",
            " [0.94243897 0.42745297]\n",
            " [0.04668907 0.82253381]]\n"
          ],
          "name": "stdout"
        }
      ]
    },
    {
      "cell_type": "code",
      "metadata": {
        "id": "10-T4TUAjMNu",
        "colab_type": "code",
        "outputId": "adaeb779-cb4a-46eb-b452-d0cc22acc527",
        "colab": {
          "base_uri": "https://localhost:8080/",
          "height": 34
        }
      },
      "source": [
        "#random integer values\n",
        "print(np.random.randint(5)) #will generate from 0 to 4 (exclusive 5)"
      ],
      "execution_count": 0,
      "outputs": [
        {
          "output_type": "stream",
          "text": [
            "4\n"
          ],
          "name": "stdout"
        }
      ]
    },
    {
      "cell_type": "code",
      "metadata": {
        "id": "R2KKYCthklq8",
        "colab_type": "code",
        "outputId": "0b87de72-a309-4771-c26d-743348eccdb5",
        "colab": {
          "base_uri": "https://localhost:8080/",
          "height": 34
        }
      },
      "source": [
        "print(np.random.randint(0, 10)) #generates random number between 0 to 9 (exclusive 10)"
      ],
      "execution_count": 0,
      "outputs": [
        {
          "output_type": "stream",
          "text": [
            "4\n"
          ],
          "name": "stdout"
        }
      ]
    },
    {
      "cell_type": "code",
      "metadata": {
        "id": "u0upNS5ikYPi",
        "colab_type": "code",
        "outputId": "22d32575-e971-4fea-822e-921a2a050574",
        "colab": {
          "base_uri": "https://localhost:8080/",
          "height": 85
        }
      },
      "source": [
        "print(np.random.randint(0, 10, size = (3,3)))"
      ],
      "execution_count": 0,
      "outputs": [
        {
          "output_type": "stream",
          "text": [
            "[[1 7 0]\n",
            " [6 5 3]\n",
            " [0 6 9]]\n",
            "None\n"
          ],
          "name": "stdout"
        }
      ]
    },
    {
      "cell_type": "code",
      "metadata": {
        "id": "1LrMi3YaqOGv",
        "colab_type": "code",
        "outputId": "0bf636d5-1407-4794-e613-37b8a171088c",
        "colab": {
          "base_uri": "https://localhost:8080/",
          "height": 68
        }
      },
      "source": [
        "print(np.random.randint(-5, 10, size = (3,3)))"
      ],
      "execution_count": 0,
      "outputs": [
        {
          "output_type": "stream",
          "text": [
            "[[-4  8  7]\n",
            " [ 5  7  2]\n",
            " [ 5  6 -2]]\n"
          ],
          "name": "stdout"
        }
      ]
    },
    {
      "cell_type": "code",
      "metadata": {
        "id": "wcLkTR6wqiiM",
        "colab_type": "code",
        "outputId": "c032ad8c-2029-44d2-9563-9190497d3921",
        "colab": {
          "base_uri": "https://localhost:8080/",
          "height": 102
        }
      },
      "source": [
        "#identity matrix\n",
        "print(np.identity(5)) #identity matrix of 5,5"
      ],
      "execution_count": 0,
      "outputs": [
        {
          "output_type": "stream",
          "text": [
            "[[1. 0. 0. 0. 0.]\n",
            " [0. 1. 0. 0. 0.]\n",
            " [0. 0. 1. 0. 0.]\n",
            " [0. 0. 0. 1. 0.]\n",
            " [0. 0. 0. 0. 1.]]\n"
          ],
          "name": "stdout"
        }
      ]
    },
    {
      "cell_type": "code",
      "metadata": {
        "id": "2tf2dbD_qq_c",
        "colab_type": "code",
        "outputId": "5eef1279-d6a8-44ba-9504-0da8c79acdf8",
        "colab": {
          "base_uri": "https://localhost:8080/",
          "height": 34
        }
      },
      "source": [
        "#repeat an array n times\n",
        "n=3\n",
        "arr = np.array([1,2,3])\n",
        "print(arr.repeat(n))"
      ],
      "execution_count": 0,
      "outputs": [
        {
          "output_type": "stream",
          "text": [
            "[1 1 1 2 2 2 3 3 3]\n"
          ],
          "name": "stdout"
        }
      ]
    },
    {
      "cell_type": "code",
      "metadata": {
        "id": "yvyGygJ_rKPk",
        "colab_type": "code",
        "outputId": "183b2efa-aa53-47b8-cd7e-89bf8151b323",
        "colab": {
          "base_uri": "https://localhost:8080/",
          "height": 68
        }
      },
      "source": [
        "#repeat along an aixs\n",
        "arr = np.array([[1,2,3]]) #two brackets at end = 2d array\n",
        "print(arr.repeat(n, axis = 0)) #repeat along rows"
      ],
      "execution_count": 0,
      "outputs": [
        {
          "output_type": "stream",
          "text": [
            "[[1 2 3]\n",
            " [1 2 3]\n",
            " [1 2 3]]\n"
          ],
          "name": "stdout"
        }
      ]
    },
    {
      "cell_type": "code",
      "metadata": {
        "id": "_nghYwPsrg5S",
        "colab_type": "code",
        "outputId": "1de183bb-b34e-4771-8305-9dec3e16462e",
        "colab": {
          "base_uri": "https://localhost:8080/",
          "height": 68
        }
      },
      "source": [
        "print(np.repeat(arr,n,axis=0)) #same as above but prefer this"
      ],
      "execution_count": 0,
      "outputs": [
        {
          "output_type": "stream",
          "text": [
            "[[1 2 3]\n",
            " [1 2 3]\n",
            " [1 2 3]]\n"
          ],
          "name": "stdout"
        }
      ]
    },
    {
      "cell_type": "code",
      "metadata": {
        "id": "H8_i8WAwrmsm",
        "colab_type": "code",
        "outputId": "41514b5b-ab1b-43df-a1c6-4398730bfcc3",
        "colab": {
          "base_uri": "https://localhost:8080/",
          "height": 34
        }
      },
      "source": [
        "print(np.repeat(arr,n,axis=1)) #repeat along columns"
      ],
      "execution_count": 0,
      "outputs": [
        {
          "output_type": "stream",
          "text": [
            "[[1 1 1 2 2 2 3 3 3]]\n"
          ],
          "name": "stdout"
        }
      ]
    },
    {
      "cell_type": "code",
      "metadata": {
        "id": "xE_yFWAGrtoq",
        "colab_type": "code",
        "colab": {}
      },
      "source": [
        "a = np.full((5,5),1)"
      ],
      "execution_count": 0,
      "outputs": []
    },
    {
      "cell_type": "code",
      "metadata": {
        "id": "aclSwmz-sCPk",
        "colab_type": "code",
        "outputId": "88be7bc5-b29c-43fa-83cd-5ee3cfe0c3e4",
        "colab": {
          "base_uri": "https://localhost:8080/",
          "height": 102
        }
      },
      "source": [
        "a"
      ],
      "execution_count": 0,
      "outputs": [
        {
          "output_type": "execute_result",
          "data": {
            "text/plain": [
              "array([[1, 1, 1, 1, 1],\n",
              "       [1, 1, 1, 1, 1],\n",
              "       [1, 1, 1, 1, 1],\n",
              "       [1, 1, 1, 1, 1],\n",
              "       [1, 1, 1, 1, 1]])"
            ]
          },
          "metadata": {
            "tags": []
          },
          "execution_count": 44
        }
      ]
    },
    {
      "cell_type": "code",
      "metadata": {
        "id": "mGhcA-2rsHmS",
        "colab_type": "code",
        "colab": {}
      },
      "source": [
        "a[1:4:1,1] =0"
      ],
      "execution_count": 0,
      "outputs": []
    },
    {
      "cell_type": "code",
      "metadata": {
        "id": "9Yse197Pstjq",
        "colab_type": "code",
        "outputId": "7cafc2b0-182c-4980-aef0-88694ed46d31",
        "colab": {
          "base_uri": "https://localhost:8080/",
          "height": 102
        }
      },
      "source": [
        "a"
      ],
      "execution_count": 0,
      "outputs": [
        {
          "output_type": "execute_result",
          "data": {
            "text/plain": [
              "array([[1, 1, 1, 1, 1],\n",
              "       [1, 0, 1, 1, 1],\n",
              "       [1, 0, 1, 1, 1],\n",
              "       [1, 0, 1, 1, 1],\n",
              "       [1, 1, 1, 1, 1]])"
            ]
          },
          "metadata": {
            "tags": []
          },
          "execution_count": 49
        }
      ]
    },
    {
      "cell_type": "code",
      "metadata": {
        "id": "E2Pqd0epsuNq",
        "colab_type": "code",
        "colab": {}
      },
      "source": [
        "a[1:4:1,-2] =0"
      ],
      "execution_count": 0,
      "outputs": []
    },
    {
      "cell_type": "code",
      "metadata": {
        "id": "1F2s_Kj7s986",
        "colab_type": "code",
        "outputId": "e4d3ec98-0eac-4b53-a527-16ba92415ee4",
        "colab": {
          "base_uri": "https://localhost:8080/",
          "height": 102
        }
      },
      "source": [
        "a"
      ],
      "execution_count": 0,
      "outputs": [
        {
          "output_type": "execute_result",
          "data": {
            "text/plain": [
              "array([[1, 1, 1, 1, 1],\n",
              "       [1, 0, 1, 0, 1],\n",
              "       [1, 0, 1, 0, 1],\n",
              "       [1, 0, 1, 0, 1],\n",
              "       [1, 1, 1, 1, 1]])"
            ]
          },
          "metadata": {
            "tags": []
          },
          "execution_count": 51
        }
      ]
    },
    {
      "cell_type": "code",
      "metadata": {
        "id": "oq4GoZu7s-dB",
        "colab_type": "code",
        "colab": {}
      },
      "source": [
        "a[2,2] = 9"
      ],
      "execution_count": 0,
      "outputs": []
    },
    {
      "cell_type": "code",
      "metadata": {
        "id": "iBqnCFgKtDxB",
        "colab_type": "code",
        "outputId": "e58c88c9-da23-4494-d32c-2b1dd5484c30",
        "colab": {
          "base_uri": "https://localhost:8080/",
          "height": 102
        }
      },
      "source": [
        "a"
      ],
      "execution_count": 0,
      "outputs": [
        {
          "output_type": "execute_result",
          "data": {
            "text/plain": [
              "array([[1, 1, 1, 1, 1],\n",
              "       [1, 0, 1, 0, 1],\n",
              "       [1, 0, 9, 0, 1],\n",
              "       [1, 0, 1, 0, 1],\n",
              "       [1, 1, 1, 1, 1]])"
            ]
          },
          "metadata": {
            "tags": []
          },
          "execution_count": 54
        }
      ]
    },
    {
      "cell_type": "code",
      "metadata": {
        "id": "JZAyVWj1tIGR",
        "colab_type": "code",
        "colab": {}
      },
      "source": [
        "#or\n",
        "a = np.ones((5,5))\n",
        "z = np.zeros((3,3))"
      ],
      "execution_count": 0,
      "outputs": []
    },
    {
      "cell_type": "code",
      "metadata": {
        "id": "DgKEZksFtRT5",
        "colab_type": "code",
        "outputId": "3ad4ed5f-0295-4a76-bd7c-6eb3c4970fa4",
        "colab": {
          "base_uri": "https://localhost:8080/",
          "height": 68
        }
      },
      "source": [
        "print(z)"
      ],
      "execution_count": 0,
      "outputs": [
        {
          "output_type": "stream",
          "text": [
            "[[0. 0. 0.]\n",
            " [0. 0. 0.]\n",
            " [0. 0. 0.]]\n"
          ],
          "name": "stdout"
        }
      ]
    },
    {
      "cell_type": "code",
      "metadata": {
        "id": "Cw5hQ_OetYoB",
        "colab_type": "code",
        "outputId": "14aa5afc-2423-444a-b56d-7bc6d257573b",
        "colab": {
          "base_uri": "https://localhost:8080/",
          "height": 68
        }
      },
      "source": [
        "z[1,1] =9\n",
        "print(z)"
      ],
      "execution_count": 0,
      "outputs": [
        {
          "output_type": "stream",
          "text": [
            "[[0. 0. 0.]\n",
            " [0. 9. 0.]\n",
            " [0. 0. 0.]]\n"
          ],
          "name": "stdout"
        }
      ]
    },
    {
      "cell_type": "code",
      "metadata": {
        "id": "P2FxK3LJtcg5",
        "colab_type": "code",
        "colab": {}
      },
      "source": [
        "a[1:4,1:4] = z #by default stepsize is 1\n",
        "# same as a[1:-1, 1:-1] #-1 is exclusive"
      ],
      "execution_count": 0,
      "outputs": []
    },
    {
      "cell_type": "code",
      "metadata": {
        "id": "uldy1iNDt1c4",
        "colab_type": "code",
        "outputId": "85f5cbb7-3d9a-4f59-97c3-95ee19e92952",
        "colab": {
          "base_uri": "https://localhost:8080/",
          "height": 102
        }
      },
      "source": [
        "print(a)"
      ],
      "execution_count": 0,
      "outputs": [
        {
          "output_type": "stream",
          "text": [
            "[[1. 1. 1. 1. 1.]\n",
            " [1. 0. 0. 0. 1.]\n",
            " [1. 0. 9. 0. 1.]\n",
            " [1. 0. 0. 0. 1.]\n",
            " [1. 1. 1. 1. 1.]]\n"
          ],
          "name": "stdout"
        }
      ]
    },
    {
      "cell_type": "markdown",
      "metadata": {
        "id": "Vg1WmW-RuhNH",
        "colab_type": "text"
      },
      "source": [
        "Be careful while copying arrays!"
      ]
    },
    {
      "cell_type": "code",
      "metadata": {
        "id": "_rMaT9rkul_c",
        "colab_type": "code",
        "outputId": "974971e4-a70e-4707-f203-e9862b48da50",
        "colab": {
          "base_uri": "https://localhost:8080/",
          "height": 34
        }
      },
      "source": [
        "a = np.array([1,2,3])\n",
        "b = a #any change in b will reflect in a. b is points to the same as a\n",
        "b[0] = 100\n",
        "print(a)"
      ],
      "execution_count": 0,
      "outputs": [
        {
          "output_type": "stream",
          "text": [
            "[100   2   3]\n"
          ],
          "name": "stdout"
        }
      ]
    },
    {
      "cell_type": "code",
      "metadata": {
        "id": "DZQ-v6Ms33Bh",
        "colab_type": "code",
        "colab": {}
      },
      "source": [
        "# to avoid thi create a copy\n",
        "c = a.copy()"
      ],
      "execution_count": 0,
      "outputs": []
    },
    {
      "cell_type": "code",
      "metadata": {
        "id": "vXliW3Ml4Qpe",
        "colab_type": "code",
        "outputId": "d5f4d7dd-78eb-45a1-8263-1034fa8c4cca",
        "colab": {
          "base_uri": "https://localhost:8080/",
          "height": 34
        }
      },
      "source": [
        "c[1] = 200\n",
        "print(a) #a remains same"
      ],
      "execution_count": 0,
      "outputs": [
        {
          "output_type": "stream",
          "text": [
            "[100   2   3]\n"
          ],
          "name": "stdout"
        }
      ]
    },
    {
      "cell_type": "markdown",
      "metadata": {
        "id": "F5DZTeC54eGn",
        "colab_type": "text"
      },
      "source": [
        "**mathematics**"
      ]
    },
    {
      "cell_type": "code",
      "metadata": {
        "id": "Z2P__0rN4TVm",
        "colab_type": "code",
        "outputId": "c6d8776a-ef56-4a63-a457-3b4812225d96",
        "colab": {
          "base_uri": "https://localhost:8080/",
          "height": 34
        }
      },
      "source": [
        "a = np.array([1,2,3])\n",
        "print(a)"
      ],
      "execution_count": 0,
      "outputs": [
        {
          "output_type": "stream",
          "text": [
            "[1 2 3]\n"
          ],
          "name": "stdout"
        }
      ]
    },
    {
      "cell_type": "code",
      "metadata": {
        "id": "3DFl44rd5ydd",
        "colab_type": "code",
        "outputId": "3b198fb4-3803-45e9-a741-3c5dd87cf9f7",
        "colab": {
          "base_uri": "https://localhost:8080/",
          "height": 34
        }
      },
      "source": [
        "#element wise operations ===> this wont change the original array\n",
        "a+2"
      ],
      "execution_count": 0,
      "outputs": [
        {
          "output_type": "execute_result",
          "data": {
            "text/plain": [
              "array([5, 6, 7])"
            ]
          },
          "metadata": {
            "tags": []
          },
          "execution_count": 80
        }
      ]
    },
    {
      "cell_type": "code",
      "metadata": {
        "id": "z6BLgPIL54-f",
        "colab_type": "code",
        "outputId": "7944f7db-5b36-4f76-8e26-2a73f3b23cf3",
        "colab": {
          "base_uri": "https://localhost:8080/",
          "height": 34
        }
      },
      "source": [
        "a - 2"
      ],
      "execution_count": 0,
      "outputs": [
        {
          "output_type": "execute_result",
          "data": {
            "text/plain": [
              "array([1, 2, 3])"
            ]
          },
          "metadata": {
            "tags": []
          },
          "execution_count": 81
        }
      ]
    },
    {
      "cell_type": "code",
      "metadata": {
        "id": "BryBAMSg57JF",
        "colab_type": "code",
        "outputId": "680c3566-25e8-4c83-d6e4-a077cc4be302",
        "colab": {
          "base_uri": "https://localhost:8080/",
          "height": 34
        }
      },
      "source": [
        "a / 2"
      ],
      "execution_count": 0,
      "outputs": [
        {
          "output_type": "execute_result",
          "data": {
            "text/plain": [
              "array([1.5, 2. , 2.5])"
            ]
          },
          "metadata": {
            "tags": []
          },
          "execution_count": 82
        }
      ]
    },
    {
      "cell_type": "code",
      "metadata": {
        "id": "8lzA__UD59Cl",
        "colab_type": "code",
        "colab": {}
      },
      "source": [
        "a +=2 #will change the content of a"
      ],
      "execution_count": 0,
      "outputs": []
    },
    {
      "cell_type": "code",
      "metadata": {
        "id": "FwOkPQ4Q5_FM",
        "colab_type": "code",
        "outputId": "f18cd248-d998-45d4-cf29-4be3e5d6cd4e",
        "colab": {
          "base_uri": "https://localhost:8080/",
          "height": 34
        }
      },
      "source": [
        "a "
      ],
      "execution_count": 0,
      "outputs": [
        {
          "output_type": "execute_result",
          "data": {
            "text/plain": [
              "array([5, 6, 7])"
            ]
          },
          "metadata": {
            "tags": []
          },
          "execution_count": 84
        }
      ]
    },
    {
      "cell_type": "code",
      "metadata": {
        "id": "RZi_LQKF6BJ8",
        "colab_type": "code",
        "outputId": "36dfc72d-b59d-4115-8bf3-3cb19b4ec62a",
        "colab": {
          "base_uri": "https://localhost:8080/",
          "height": 34
        }
      },
      "source": [
        "b = np.array([2,5,6])\n",
        "a + b"
      ],
      "execution_count": 0,
      "outputs": [
        {
          "output_type": "execute_result",
          "data": {
            "text/plain": [
              "array([ 7, 11, 13])"
            ]
          },
          "metadata": {
            "tags": []
          },
          "execution_count": 86
        }
      ]
    },
    {
      "cell_type": "code",
      "metadata": {
        "id": "Y7JRkAMw6TbM",
        "colab_type": "code",
        "outputId": "a2d2d573-a027-4f29-88f5-04b261f9ca2f",
        "colab": {
          "base_uri": "https://localhost:8080/",
          "height": 34
        }
      },
      "source": [
        "a ** 2"
      ],
      "execution_count": 0,
      "outputs": [
        {
          "output_type": "execute_result",
          "data": {
            "text/plain": [
              "array([25, 36, 49])"
            ]
          },
          "metadata": {
            "tags": []
          },
          "execution_count": 87
        }
      ]
    },
    {
      "cell_type": "code",
      "metadata": {
        "id": "PQ2hAyQ66ipU",
        "colab_type": "code",
        "outputId": "744b260d-0807-4077-80f1-f618f9fb5f53",
        "colab": {
          "base_uri": "https://localhost:8080/",
          "height": 34
        }
      },
      "source": [
        "#take sine of all values\n",
        "np.sin(a)"
      ],
      "execution_count": 0,
      "outputs": [
        {
          "output_type": "execute_result",
          "data": {
            "text/plain": [
              "array([-0.95892427, -0.2794155 ,  0.6569866 ])"
            ]
          },
          "metadata": {
            "tags": []
          },
          "execution_count": 88
        }
      ]
    },
    {
      "cell_type": "code",
      "metadata": {
        "id": "xpg62ucC6pPE",
        "colab_type": "code",
        "outputId": "ed17b147-939f-4d1c-9ebf-5a6357abff78",
        "colab": {
          "base_uri": "https://localhost:8080/",
          "height": 34
        }
      },
      "source": [
        "np.tan(a)"
      ],
      "execution_count": 0,
      "outputs": [
        {
          "output_type": "execute_result",
          "data": {
            "text/plain": [
              "array([-3.38051501, -0.29100619,  0.87144798])"
            ]
          },
          "metadata": {
            "tags": []
          },
          "execution_count": 89
        }
      ]
    },
    {
      "cell_type": "markdown",
      "metadata": {
        "id": "nGwXJ8vq8IQP",
        "colab_type": "text"
      },
      "source": [
        "**Linear Algebra**"
      ]
    },
    {
      "cell_type": "code",
      "metadata": {
        "id": "LKL_jlaq8Nef",
        "colab_type": "code",
        "colab": {}
      },
      "source": [
        "a = np.ones((2,3))"
      ],
      "execution_count": 0,
      "outputs": []
    },
    {
      "cell_type": "code",
      "metadata": {
        "id": "yXWo-gux8cCo",
        "colab_type": "code",
        "colab": {}
      },
      "source": [
        "b = np.full((3,4), 5)"
      ],
      "execution_count": 0,
      "outputs": []
    },
    {
      "cell_type": "code",
      "metadata": {
        "id": "xtajv6wa8f4N",
        "colab_type": "code",
        "outputId": "227ed66f-2e6d-4341-afc6-61c31704fcdd",
        "colab": {
          "base_uri": "https://localhost:8080/",
          "height": 136
        }
      },
      "source": [
        "#for doing product no. of cols of 1st one = no. of rows of 2nd one\n",
        "print(a)\n",
        "print(b)\n",
        "print(np.matmul(a,b)) #matrix multiplication\n"
      ],
      "execution_count": 0,
      "outputs": [
        {
          "output_type": "stream",
          "text": [
            "[[1. 1. 1.]\n",
            " [1. 1. 1.]]\n",
            "[[5 5 5 5]\n",
            " [5 5 5 5]\n",
            " [5 5 5 5]]\n",
            "[[15. 15. 15. 15.]\n",
            " [15. 15. 15. 15.]]\n"
          ],
          "name": "stdout"
        }
      ]
    },
    {
      "cell_type": "code",
      "metadata": {
        "id": "RFTKL_7I84vC",
        "colab_type": "code",
        "outputId": "32026dda-4b52-48d0-eea9-ac3891d0bed9",
        "colab": {
          "base_uri": "https://localhost:8080/",
          "height": 34
        }
      },
      "source": [
        "print(np.matmul(a,b).shape)"
      ],
      "execution_count": 0,
      "outputs": [
        {
          "output_type": "stream",
          "text": [
            "(2, 4)\n"
          ],
          "name": "stdout"
        }
      ]
    },
    {
      "cell_type": "code",
      "metadata": {
        "id": "_QV-SXT39A9y",
        "colab_type": "code",
        "outputId": "dd8b4ffe-0ed4-4268-da7c-cdd031e838da",
        "colab": {
          "base_uri": "https://localhost:8080/",
          "height": 102
        }
      },
      "source": [
        "#find determinant of matrix\n",
        "a = np.identity(5)\n",
        "a"
      ],
      "execution_count": 0,
      "outputs": [
        {
          "output_type": "execute_result",
          "data": {
            "text/plain": [
              "array([[1., 0., 0., 0., 0.],\n",
              "       [0., 1., 0., 0., 0.],\n",
              "       [0., 0., 1., 0., 0.],\n",
              "       [0., 0., 0., 1., 0.],\n",
              "       [0., 0., 0., 0., 1.]])"
            ]
          },
          "metadata": {
            "tags": []
          },
          "execution_count": 95
        }
      ]
    },
    {
      "cell_type": "code",
      "metadata": {
        "id": "V3DyhnUx9Lty",
        "colab_type": "code",
        "outputId": "7cd03a98-eebd-468a-e664-ab53694e4bcb",
        "colab": {
          "base_uri": "https://localhost:8080/",
          "height": 34
        }
      },
      "source": [
        "print(np.linalg.det(a))"
      ],
      "execution_count": 0,
      "outputs": [
        {
          "output_type": "stream",
          "text": [
            "1.0\n"
          ],
          "name": "stdout"
        }
      ]
    },
    {
      "cell_type": "code",
      "metadata": {
        "id": "MC4VsTtN9RiR",
        "colab_type": "code",
        "colab": {}
      },
      "source": [
        "###Statistics"
      ],
      "execution_count": 0,
      "outputs": []
    },
    {
      "cell_type": "code",
      "metadata": {
        "id": "29G1qkNM9hci",
        "colab_type": "code",
        "colab": {}
      },
      "source": [
        "s = np.array([1,2,3])"
      ],
      "execution_count": 0,
      "outputs": []
    },
    {
      "cell_type": "code",
      "metadata": {
        "id": "a74DGUG3_GYi",
        "colab_type": "code",
        "outputId": "6f211c10-1344-4d2d-e278-877c97d446e3",
        "colab": {
          "base_uri": "https://localhost:8080/",
          "height": 34
        }
      },
      "source": [
        "print(np.min(s)) #minimum"
      ],
      "execution_count": 0,
      "outputs": [
        {
          "output_type": "stream",
          "text": [
            "1\n"
          ],
          "name": "stdout"
        }
      ]
    },
    {
      "cell_type": "code",
      "metadata": {
        "id": "MC9HcMzF_KGP",
        "colab_type": "code",
        "outputId": "bcb87a06-915a-43b9-a493-5cfa321a1a44",
        "colab": {
          "base_uri": "https://localhost:8080/",
          "height": 34
        }
      },
      "source": [
        "print(np.max(s)) #maximum"
      ],
      "execution_count": 0,
      "outputs": [
        {
          "output_type": "stream",
          "text": [
            "3\n"
          ],
          "name": "stdout"
        }
      ]
    },
    {
      "cell_type": "code",
      "metadata": {
        "id": "wQbMLhB8_PQ3",
        "colab_type": "code",
        "outputId": "ccb4e36f-d55b-4f24-9fe0-926e4bd932f6",
        "colab": {
          "base_uri": "https://localhost:8080/",
          "height": 34
        }
      },
      "source": [
        "print(np.min(s, axis = 0))"
      ],
      "execution_count": 0,
      "outputs": [
        {
          "output_type": "stream",
          "text": [
            "1\n"
          ],
          "name": "stdout"
        }
      ]
    },
    {
      "cell_type": "code",
      "metadata": {
        "id": "dUSNY6oU_sMn",
        "colab_type": "code",
        "outputId": "7f73d336-6789-4027-86e2-5af09875b073",
        "colab": {
          "base_uri": "https://localhost:8080/",
          "height": 34
        }
      },
      "source": [
        "print(np.max(s, axis = 0))"
      ],
      "execution_count": 0,
      "outputs": [
        {
          "output_type": "stream",
          "text": [
            "3\n"
          ],
          "name": "stdout"
        }
      ]
    },
    {
      "cell_type": "code",
      "metadata": {
        "id": "1s676UHB_yUH",
        "colab_type": "code",
        "colab": {}
      },
      "source": [
        "s = np.array([[1,2,3],[4,5,6]])"
      ],
      "execution_count": 0,
      "outputs": []
    },
    {
      "cell_type": "code",
      "metadata": {
        "id": "M5ZumUw9ACtO",
        "colab_type": "code",
        "outputId": "752f950c-68f1-4f5b-9ace-411e8d8f5467",
        "colab": {
          "base_uri": "https://localhost:8080/",
          "height": 34
        }
      },
      "source": [
        "print(np.min(s, axis = 1))"
      ],
      "execution_count": 0,
      "outputs": [
        {
          "output_type": "stream",
          "text": [
            "[1 4]\n"
          ],
          "name": "stdout"
        }
      ]
    },
    {
      "cell_type": "code",
      "metadata": {
        "id": "9sWbV8vuAFnH",
        "colab_type": "code",
        "outputId": "c40b5e69-1efd-46e5-94eb-06cf42a1223b",
        "colab": {
          "base_uri": "https://localhost:8080/",
          "height": 51
        }
      },
      "source": [
        "s"
      ],
      "execution_count": 0,
      "outputs": [
        {
          "output_type": "execute_result",
          "data": {
            "text/plain": [
              "array([[1, 2, 3],\n",
              "       [4, 5, 6]])"
            ]
          },
          "metadata": {
            "tags": []
          },
          "execution_count": 111
        }
      ]
    },
    {
      "cell_type": "code",
      "metadata": {
        "id": "-tNtiQ5zAWFm",
        "colab_type": "code",
        "outputId": "a34d3812-6e6a-4624-ff11-2cabb335664b",
        "colab": {
          "base_uri": "https://localhost:8080/",
          "height": 34
        }
      },
      "source": [
        "print(np.sum(s)) # sum of all elements"
      ],
      "execution_count": 0,
      "outputs": [
        {
          "output_type": "stream",
          "text": [
            "21\n"
          ],
          "name": "stdout"
        }
      ]
    },
    {
      "cell_type": "code",
      "metadata": {
        "id": "TPQ-5jGVAmdP",
        "colab_type": "code",
        "outputId": "8e0728a3-a90c-4a09-e883-14ff49a526bc",
        "colab": {
          "base_uri": "https://localhost:8080/",
          "height": 34
        }
      },
      "source": [
        "print(np.sum(s, axis = 0)) # each column values will be added"
      ],
      "execution_count": 0,
      "outputs": [
        {
          "output_type": "stream",
          "text": [
            "[5 7 9]\n"
          ],
          "name": "stdout"
        }
      ]
    },
    {
      "cell_type": "code",
      "metadata": {
        "id": "tunV-VPjApku",
        "colab_type": "code",
        "outputId": "efe3d551-2813-415a-ecf7-9bbcea27934c",
        "colab": {
          "base_uri": "https://localhost:8080/",
          "height": 34
        }
      },
      "source": [
        "print(np.sum(s, axis = 1)) #sum of all elements in a row"
      ],
      "execution_count": 0,
      "outputs": [
        {
          "output_type": "stream",
          "text": [
            "[ 6 15]\n"
          ],
          "name": "stdout"
        }
      ]
    },
    {
      "cell_type": "markdown",
      "metadata": {
        "id": "7_ErqnE0BAfp",
        "colab_type": "text"
      },
      "source": [
        "**Reorganizing Arrays**"
      ]
    },
    {
      "cell_type": "code",
      "metadata": {
        "id": "14DCriChBHZm",
        "colab_type": "code",
        "outputId": "b69c51c3-e2c7-4ff6-f6d4-19885160f132",
        "colab": {
          "base_uri": "https://localhost:8080/",
          "height": 119
        }
      },
      "source": [
        "before = np.array([[1,2,3,4],[5,6,7,8]])\n",
        "print(before)\n",
        "\n",
        "after = before.reshape((4,2)) #product of all dimensions should remain same i.e. number of elements\n",
        "print(after)\n",
        "\n"
      ],
      "execution_count": 0,
      "outputs": [
        {
          "output_type": "stream",
          "text": [
            "[[1 2 3 4]\n",
            " [5 6 7 8]]\n",
            "[[1 2]\n",
            " [3 4]\n",
            " [5 6]\n",
            " [7 8]]\n"
          ],
          "name": "stdout"
        }
      ]
    },
    {
      "cell_type": "code",
      "metadata": {
        "id": "8lFSLXusfrVH",
        "colab_type": "code",
        "outputId": "4042b848-22b5-4559-b251-64b1c9507479",
        "colab": {
          "base_uri": "https://localhost:8080/",
          "height": 221
        }
      },
      "source": [
        "print(before.reshape(2,2,2,1))"
      ],
      "execution_count": 0,
      "outputs": [
        {
          "output_type": "stream",
          "text": [
            "[[[[1]\n",
            "   [2]]\n",
            "\n",
            "  [[3]\n",
            "   [4]]]\n",
            "\n",
            "\n",
            " [[[5]\n",
            "   [6]]\n",
            "\n",
            "  [[7]\n",
            "   [8]]]]\n"
          ],
          "name": "stdout"
        }
      ]
    },
    {
      "cell_type": "code",
      "metadata": {
        "id": "V4svcuxDgEQN",
        "colab_type": "code",
        "outputId": "8460e852-cf35-40fa-a302-59cfbd44bd64",
        "colab": {
          "base_uri": "https://localhost:8080/",
          "height": 85
        }
      },
      "source": [
        "#vertically stacking arrays\n",
        "v1 = np.array([[1,2,3],[4,5,6]])\n",
        "v2 = np.array([[7,8,9],[10,11,12]])\n",
        "\n",
        "#size of v1,v2 should be same\n",
        "print(np.vstack([v1,v2])) #WHILE CREATING ANY ARRAY [] IS REQUIRED "
      ],
      "execution_count": 0,
      "outputs": [
        {
          "output_type": "stream",
          "text": [
            "[[ 1  2  3]\n",
            " [ 4  5  6]\n",
            " [ 7  8  9]\n",
            " [10 11 12]]\n"
          ],
          "name": "stdout"
        }
      ]
    },
    {
      "cell_type": "code",
      "metadata": {
        "id": "pp3z3-gxgd-m",
        "colab_type": "code",
        "outputId": "b785e6dc-c371-4888-f9ca-bc6111d1ab6a",
        "colab": {
          "base_uri": "https://localhost:8080/",
          "height": 153
        }
      },
      "source": [
        "print(np.vstack([v1,v2,v2,v1])) #size"
      ],
      "execution_count": 0,
      "outputs": [
        {
          "output_type": "stream",
          "text": [
            "[[ 1  2  3]\n",
            " [ 4  5  6]\n",
            " [ 7  8  9]\n",
            " [10 11 12]\n",
            " [ 7  8  9]\n",
            " [10 11 12]\n",
            " [ 1  2  3]\n",
            " [ 4  5  6]]\n"
          ],
          "name": "stdout"
        }
      ]
    },
    {
      "cell_type": "code",
      "metadata": {
        "id": "uO0hxyCWg4x2",
        "colab_type": "code",
        "colab": {}
      },
      "source": [
        "#horizontal stacking\n",
        "h1 = np.array([1,2,3])\n",
        "h2 = np.array([4,5,6])"
      ],
      "execution_count": 0,
      "outputs": []
    },
    {
      "cell_type": "code",
      "metadata": {
        "id": "MLGHGr0Whaj_",
        "colab_type": "code",
        "outputId": "f4edc506-3f72-4bc7-d0d8-5030f50b61a4",
        "colab": {
          "base_uri": "https://localhost:8080/",
          "height": 34
        }
      },
      "source": [
        "print(np.hstack([h1,h2])) #size should be same"
      ],
      "execution_count": 0,
      "outputs": [
        {
          "output_type": "stream",
          "text": [
            "[1 2 3 4 5 6]\n"
          ],
          "name": "stdout"
        }
      ]
    },
    {
      "cell_type": "code",
      "metadata": {
        "id": "GON6eZUIheVO",
        "colab_type": "code",
        "outputId": "1b7284d4-8a2f-4396-83b6-dea32110da7e",
        "colab": {
          "base_uri": "https://localhost:8080/",
          "height": 204
        }
      },
      "source": [
        "#difference between resize and reshape\n",
        "a = np.array([[1,2,3],[4,5,6]])\n",
        "b = a.reshape((3,2))\n",
        "print(a)\n",
        "print(b)\n",
        "c = a.resize((6,1))\n",
        "print(a) #original array doesnt change after reshape but resize will affect the shape of the array"
      ],
      "execution_count": 0,
      "outputs": [
        {
          "output_type": "stream",
          "text": [
            "[[1 2 3]\n",
            " [4 5 6]]\n",
            "[[1 2]\n",
            " [3 4]\n",
            " [5 6]]\n",
            "[[1]\n",
            " [2]\n",
            " [3]\n",
            " [4]\n",
            " [5]\n",
            " [6]]\n"
          ],
          "name": "stdout"
        }
      ]
    },
    {
      "cell_type": "code",
      "metadata": {
        "id": "wAiIBJ4ziWQG",
        "colab_type": "code",
        "colab": {}
      },
      "source": [
        ""
      ],
      "execution_count": 0,
      "outputs": []
    }
  ]
}